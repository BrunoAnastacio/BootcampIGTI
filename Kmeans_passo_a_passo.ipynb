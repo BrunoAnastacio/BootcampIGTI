{
  "nbformat": 4,
  "nbformat_minor": 0,
  "metadata": {
    "colab": {
      "name": "Kmeans_passo_a_passo.ipynb",
      "provenance": [],
      "collapsed_sections": []
    },
    "kernelspec": {
      "name": "python3",
      "display_name": "Python 3"
    }
  },
  "cells": [
    {
      "cell_type": "markdown",
      "metadata": {
        "id": "wlbgFlQFwu3-",
        "colab_type": "text"
      },
      "source": [
        "# KMeans passo a passo\n",
        "\n",
        "A rede de lojas Bruno tem 19 lojas em algumas das principais cidades do país. A empresa pensa em construir 3 centros logísticos para abastecer as lojas. Mas, qual seria a posição ótima para cada um desses três hubs, considerando apenas a posição (coordenadas geográficas) das lojas?\n",
        "\n",
        "Abaixo, plotamos no gráfico a representação em coordenadas de cada uma das 19 cidades onde a rede possui filiais. \n",
        "\n",
        "O ponto mais ao sul no gráfico representa Porto Alegre, o ponto mais à Oeste representa Rio Branco, o ponto mais à leste representa Recife e o ponto mais ao norte representa Belém."
      ]
    },
    {
      "cell_type": "code",
      "metadata": {
        "id": "8HUzbGzUwMG4",
        "colab_type": "code",
        "colab": {}
      },
      "source": [
        "import numpy as np #para manipular os vetores\n",
        "from matplotlib import pyplot as plt #para plotar os gráficos\n",
        "from sklearn.cluster import KMeans #para usar o KMeans"
      ],
      "execution_count": 0,
      "outputs": []
    },
    {
      "cell_type": "code",
      "metadata": {
        "id": "PMXzQ4mZwhVp",
        "colab_type": "code",
        "outputId": "fcd9de29-c791-4994-e2a9-0759de14b6b4",
        "colab": {
          "base_uri": "https://localhost:8080/",
          "height": 269
        }
      },
      "source": [
        "dataset = np.array(\n",
        "    #matriz com as coordenadas geográficas de cada loja\n",
        "    [\n",
        "     [-25, -46], #são paulo\n",
        "     [-22, -43], #rio de janeiro\n",
        "     [-25, -49], #curitiba\n",
        "     [-30, -51], #porto alegre\n",
        "     [-19, -43], #belo horizonte\n",
        "     [-15, -47], #brasilia\n",
        "     [-12, -38], #salvador\n",
        "     [-8, -34], #recife\n",
        "     [-16, -49], #goiania\n",
        "     [-3, -60], #manaus\n",
        "     [-22, -47], #campinas\n",
        "     [-3, -38], #fortaleza\n",
        "     [-21, -47], #ribeirão preto\n",
        "     [-23, -51], #maringa\n",
        "     [-27, -48], #florianópolis\n",
        "     [-21, -43], #juiz de fora\n",
        "     [-1, -48], #belém\n",
        "     [-10, -67], #rio branco\n",
        "     [-8, -63] #porto velho\n",
        "    ]\n",
        "     )\n",
        "\n",
        "plt.scatter(dataset[:,1], dataset[:,0]) #posicionamento dos eixos x e y\n",
        "plt.xlim(-75, -30) #range do eixo x\n",
        "plt.ylim(-50, 10) #range do eixo y\n",
        "plt.grid() #função que desenha a grade no nosso gráfico"
      ],
      "execution_count": 0,
      "outputs": [
        {
          "output_type": "display_data",
          "data": {
            "image/png": "[encoded data removed]",
            "text/plain": [
              "<Figure size 432x288 with 1 Axes>"
            ]
          },
          "metadata": {
            "tags": [],
            "needs_background": "light"
          }
        }
      ]
    },
    {
      "cell_type": "markdown",
      "metadata": {
        "id": "-HRaiox46ZE9",
        "colab_type": "text"
      },
      "source": [
        "Vamos utilizar o algoritmo KMeans, do pacote **Scikit-Learn** para agrupar (clusterisar) as nossas filiais em 3 grupos. Cada grupo será servido por um centro logístico, que será representado por um centróide."
      ]
    },
    {
      "cell_type": "code",
      "metadata": {
        "id": "4sD28mYe6YyX",
        "colab_type": "code",
        "outputId": "8fb68a33-a8df-4089-9f3e-7f54539d5ff3",
        "colab": {
          "base_uri": "https://localhost:8080/",
          "height": 287
        }
      },
      "source": [
        "kmeans = KMeans(n_clusters = 3, #numero de clusters\n",
        "                init = 'k-means++', n_init = 10, #algoritmo que define a posição dos clusters de maneira mais assertiva\n",
        "                max_iter = 300) #numero máximo de iterações\n",
        "pred_y = kmeans.fit_predict(dataset)\n",
        "\n",
        "plt.scatter(dataset[:,1], dataset[:,0], c = pred_y) #posicionamento dos eixos x e y\n",
        "plt.xlim(-75, -30) #range do eixo x\n",
        "plt.ylim(-50, 10) #range do eixo y\n",
        "plt.grid() #função que desenha a grade no nosso gráfico\n",
        "\n",
        "print(kmeans.cluster_centers_[:,1],kmeans.cluster_centers_[:,0])\n",
        "plt.scatter(kmeans.cluster_centers_[:,1],kmeans.cluster_centers_[:,0], s = 70, c = 'red') #posição de cada centroide no gráfico\n",
        "plt.show()"
      ],
      "execution_count": 0,
      "outputs": [
        {
          "output_type": "stream",
          "text": [
            "[-39.5        -47.         -63.33333333] [ -6.         -22.16666667  -7.        ]\n"
          ],
          "name": "stdout"
        },
        {
          "output_type": "display_data",
          "data": {
            "image/png": "[encoded data removed]",
            "text/plain": [
              "<Figure size 432x288 with 1 Axes>"
            ]
          },
          "metadata": {
            "tags": [],
            "needs_background": "light"
          }
        }
      ]
    },
    {
      "cell_type": "markdown",
      "metadata": {
        "id": "o00-MugVCBw6",
        "colab_type": "text"
      },
      "source": [
        "Nossa clusterização apontou três posições para os nossos centros logísticos. Vamos ver onde, aproximadamende, eles ficariam?\n",
        "\n",
        "[-7, -63.33333333] - Humaitá/AM\n",
        "\n",
        "[-6, -39.5] - Acopiara/CE\n",
        "\n",
        "[-22.16666667, -47] - Mogi Guaçu/SP\n",
        "\n",
        "Sim, com certeza não faria sentido abrir um galpão em Porto Velho para abastecer apenas 3 lojas e outro em Solonópole, para abastecer apenas 4 filias. Aqui entra a necessidade de completude do nosso dataset. Quanto mais dados, mais assertiva seria a nossa resposta. This is Big Data!\n",
        "\n",
        "Algums exemplos de dados que poderíamos cruzar, usando esses e outros algoritmos:\n",
        "\n",
        "\n",
        "\n",
        "* Custo de frete CD -> Loja\n",
        "* Custo de frete Fornecedor -> CD\n",
        "* Volume de vendas por loja\n",
        "* Faixa salarial por cidade\n",
        "* Preço do aluguel para abrir o galpão por cidade\n",
        "* Impostos municipais/Estaduais\n",
        "* etc.\n",
        "\n",
        "\n",
        "\n"
      ]
    },
    {
      "cell_type": "markdown",
      "metadata": {
        "id": "_p7tXTQPP9-Z",
        "colab_type": "text"
      },
      "source": [
        "# Melhorando um pouco o exemplo\n",
        "Neste segundo cenário, vamos considerar que em algumas das maiores cidades nós temos mais que uma loja.\n",
        "\n",
        "Só em São Paulo, agora temos 21 lojas. No total, nossa rede teria 86 lojas."
      ]
    },
    {
      "cell_type": "code",
      "metadata": {
        "id": "Owzmy_FoNI8k",
        "colab_type": "code",
        "outputId": "186a09db-8082-4cf4-ed0f-6aae180f0f61",
        "colab": {
          "base_uri": "https://localhost:8080/",
          "height": 269
        }
      },
      "source": [
        "novo_dataset = np.array(\n",
        "    #matriz com as coordenadas geográficas de cada loja\n",
        "    [\n",
        "     [-25, -46], #são paulo\n",
        "     [-25, -46], #são paulo\n",
        "     [-25, -46], #são paulo\n",
        "     [-25, -46], #são paulo\n",
        "     [-25, -46], #são paulo\n",
        "     [-25, -46], #são paulo\n",
        "     [-25, -46], #são paulo\n",
        "     [-25, -46], #são paulo\n",
        "     [-25, -46], #são paulo\n",
        "     [-25, -46], #são paulo\n",
        "     [-25, -46], #são paulo\n",
        "     [-25, -46], #são paulo\n",
        "     [-25, -46], #são paulo\n",
        "     [-25, -46], #são paulo\n",
        "     [-25, -46], #são paulo\n",
        "     [-25, -46], #são paulo\n",
        "     [-25, -46], #são paulo\n",
        "     [-25, -46], #são paulo\n",
        "     [-25, -46], #são paulo\n",
        "     [-25, -46], #são paulo\n",
        "     [-25, -46], #são paulo\n",
        "     [-22, -43], #rio de janeiro\n",
        "     [-22, -43], #rio de janeiro\n",
        "     [-22, -43], #rio de janeiro\n",
        "     [-22, -43], #rio de janeiro\n",
        "     [-22, -43], #rio de janeiro\n",
        "     [-22, -43], #rio de janeiro\n",
        "     [-22, -43], #rio de janeiro\n",
        "     [-22, -43], #rio de janeiro\n",
        "     [-22, -43], #rio de janeiro\n",
        "     [-22, -43], #rio de janeiro\n",
        "     [-22, -43], #rio de janeiro\n",
        "     [-22, -43], #rio de janeiro\n",
        "     [-25, -49], #curitiba\n",
        "     [-25, -49], #curitiba\n",
        "     [-25, -49], #curitiba\n",
        "     [-25, -49], #curitiba\n",
        "     [-25, -49], #curitiba\n",
        "     [-25, -49], #curitiba\n",
        "     [-30, -51], #porto alegre\n",
        "     [-30, -51], #porto alegre\n",
        "     [-30, -51], #porto alegre\n",
        "     [-19, -43], #belo horizonte\n",
        "     [-19, -43], #belo horizonte\n",
        "     [-19, -43], #belo horizonte\n",
        "     [-19, -43], #belo horizonte\n",
        "     [-19, -43], #belo horizonte\n",
        "     [-19, -43], #belo horizonte\n",
        "     [-19, -43], #belo horizonte\n",
        "     [-19, -43], #belo horizonte\n",
        "     [-15, -47], #brasilia\n",
        "     [-15, -47], #brasilia\n",
        "     [-15, -47], #brasilia\n",
        "     [-15, -47], #brasilia\n",
        "     [-15, -47], #brasilia\n",
        "     [-15, -47], #brasilia\n",
        "     [-12, -38], #salvador\n",
        "     [-12, -38], #salvador\n",
        "     [-12, -38], #salvador\n",
        "     [-8, -34], #recife\n",
        "     [-8, -34], #recife\n",
        "     [-8, -34], #recife\n",
        "     [-16, -49], #goiania\n",
        "     [-16, -49], #goiania\n",
        "     [-3, -60], #manaus\n",
        "     [-3, -60], #manaus\n",
        "     [-3, -60], #manaus\n",
        "     [-3, -60], #manaus\n",
        "     [-22, -47], #campinas\n",
        "     [-22, -47], #campinas\n",
        "     [-3, -38], #fortaleza\n",
        "     [-3, -38], #fortaleza\n",
        "     [-3, -38], #fortaleza\n",
        "     [-3, -38], #fortaleza\n",
        "     [-3, -38], #fortaleza\n",
        "     [-3, -38], #fortaleza\n",
        "     [-21, -47], #ribeirão preto\n",
        "     [-23, -51], #maringa\n",
        "     [-27, -48], #florianópolis\n",
        "     [-27, -48], #florianópolis\n",
        "     [-21, -43], #juiz de fora\n",
        "     [-1, -48], #belém\n",
        "     [-1, -48], #belém\n",
        "     [-1, -48], #belém\n",
        "     [-1, -48], #belém\n",
        "     [-10, -67], #rio branco\n",
        "     [-8, -63] #porto velho\n",
        "    ]\n",
        "     )\n",
        "\n",
        "plt.scatter(novo_dataset[:,1], novo_dataset[:,0]) #posicionamento dos eixos x e y\n",
        "plt.xlim(-75, -30) #range do eixo x\n",
        "plt.ylim(-50, 10) #range do eixo y\n",
        "plt.grid() #função que desenha a grade no nosso gráfico"
      ],
      "execution_count": 0,
      "outputs": [
        {
          "output_type": "display_data",
          "data": {
            "image/png": "[encoded data removed]",
            "text/plain": [
              "<Figure size 432x288 with 1 Axes>"
            ]
          },
          "metadata": {
            "tags": [],
            "needs_background": "light"
          }
        }
      ]
    },
    {
      "cell_type": "code",
      "metadata": {
        "id": "qmNpz5XqNvEX",
        "colab_type": "code",
        "outputId": "4f7595cf-c81e-4362-c8e1-2ac9f5bba700",
        "colab": {
          "base_uri": "https://localhost:8080/",
          "height": 287
        }
      },
      "source": [
        "kmeans = KMeans(n_clusters = 3, #numero de clusters\n",
        "                init = 'k-means++', n_init = 10, #algoritmo que define a posição dos clusters de maneira mais assertiva\n",
        "                max_iter = 100) #numero máximo de iterações\n",
        "pred_y = kmeans.fit_predict(novo_dataset)\n",
        "\n",
        "plt.scatter(novo_dataset[:,1], novo_dataset[:,0], c = pred_y) #posicionamento dos eixos x e y\n",
        "plt.xlim(-75, -30) #range do eixo x\n",
        "plt.ylim(-50, 10) #range do eixo y\n",
        "plt.grid() #função que desenha a grade no nosso gráfico\n",
        "\n",
        "plt.scatter(kmeans.cluster_centers_[:,1],kmeans.cluster_centers_[:,0], s = 70, c = 'red') #posição de cada centroide no gráfico\n",
        "print(kmeans.cluster_centers_[:,1],kmeans.cluster_centers_[:,0])\n",
        "plt.show()"
      ],
      "execution_count": 0,
      "outputs": [
        {
          "output_type": "stream",
          "text": [
            "[-39.75       -45.90769231 -61.66666667] [ -5.125      -22.55384615  -5.        ]\n"
          ],
          "name": "stdout"
        },
        {
          "output_type": "display_data",
          "data": {
            "image/png": "[encoded data removed]",
            "text/plain": [
              "<Figure size 432x288 with 1 Axes>"
            ]
          },
          "metadata": {
            "tags": [],
            "needs_background": "light"
          }
        }
      ]
    },
    {
      "cell_type": "markdown",
      "metadata": {
        "id": "vkM1U0XUSL6q",
        "colab_type": "text"
      },
      "source": [
        "Agora, nossos centros logísticos ficariam nos seguintes locais:\n",
        "\n",
        "1. [-5, -61.66666667] - Berui/AM\n",
        "2. [-5.125, -39.75] - Boa Viagem/CE\n",
        "3. [-22.55384615, -45.90769231] - Consolação/MG\n",
        "\n",
        "O que poderiamos comentar aqui é que o fato de termos definido 8 lojas em Belo Horizonte e 6 em Brasilia, contra 6 em Curitiba e 3 em Porto Alegre, ajudou a puxar o nosso centróide mais ao sul do estado de São Paulo para Minas Gerais. O mesmo acoteceu com o nosso centrróide da Região Norte: o nosso centro logístico por lá ficaria mais próximo das cidades de Manaus e Belém, que teria mais lojas que Rio Branco e Porto Velho.\n",
        "\n",
        "\n",
        "\n"
      ]
    },
    {
      "cell_type": "markdown",
      "metadata": {
        "id": "Cb8W84EmTUco",
        "colab_type": "text"
      },
      "source": [
        "# k-means++ vs random e a aleatoriedade\n",
        "\n",
        "Como dissemos no inicio, quando usamos `k-means`, o algoritmo, desde o início, define os melhores pontos de iniciação dos centróides. Para porvar isso, vamos reiniciar nosso algoritmo usando `'random'` dessa vez.\n",
        "\n",
        "Abaixo, só vou usar uma única iteração, para que você possa ver de onde nossos centróides podem partir. Lembrando que random os lança aleatoriamente, ou seja, para cada vez que você rodar essa célula, ele vai iniciar de um lugar diferente.\n",
        "\n"
      ]
    },
    {
      "cell_type": "code",
      "metadata": {
        "id": "Dg25EhR9UMp6",
        "colab_type": "code",
        "outputId": "0837b810-814c-4ba5-ec06-e6be564ee270",
        "colab": {
          "base_uri": "https://localhost:8080/",
          "height": 269
        }
      },
      "source": [
        "kmeans = KMeans(n_clusters = 3, #numero de clusters\n",
        "                init = 'random', n_init = 10, #algoritmo que define a posição dos clusters de maneira mais assertiva\n",
        "                max_iter = 1) #numero máximo de iterações\n",
        "pred_y = kmeans.fit_predict(novo_dataset)\n",
        "\n",
        "plt.scatter(novo_dataset[:,1], novo_dataset[:,0], c = pred_y) #posicionamento dos eixos x e y\n",
        "plt.xlim(-75, -30) #range do eixo x\n",
        "plt.ylim(-50, 10) #range do eixo y\n",
        "plt.grid() #função que desenha a grade no nosso gráfico\n",
        "\n",
        "plt.scatter(kmeans.cluster_centers_[:,1],kmeans.cluster_centers_[:,0], s = 70, c = 'red') #posição de cada centroide no gráfico\n",
        "plt.show()"
      ],
      "execution_count": 0,
      "outputs": [
        {
          "output_type": "display_data",
          "data": {
            "image/png": "[encoded data removed]",
            "text/plain": [
              "<Figure size 432x288 with 1 Axes>"
            ]
          },
          "metadata": {
            "tags": [],
            "needs_background": "light"
          }
        }
      ]
    },
    {
      "cell_type": "markdown",
      "metadata": {
        "id": "8PyK95zfUXJI",
        "colab_type": "text"
      },
      "source": [
        "...mas o que importa é que depois de um número de iterações, ele vai achar o nosso ponto ótimo.\n",
        "\n",
        "Para o exemplo abaixo, vou definir 100 iterações:"
      ]
    },
    {
      "cell_type": "code",
      "metadata": {
        "id": "emwj-cwgUlB2",
        "colab_type": "code",
        "outputId": "353c69e1-607f-435c-8b6c-898cd9e27664",
        "colab": {
          "base_uri": "https://localhost:8080/",
          "height": 269
        }
      },
      "source": [
        "kmeans = KMeans(n_clusters = 3, #numero de clusters\n",
        "                init = 'random', n_init = 10, #algoritmo que define a posição dos clusters de maneira mais assertiva\n",
        "                max_iter = 100) #numero máximo de iterações\n",
        "pred_y = kmeans.fit_predict(novo_dataset)\n",
        "\n",
        "plt.scatter(novo_dataset[:,1], novo_dataset[:,0], c = pred_y) #posicionamento dos eixos x e y\n",
        "plt.xlim(-75, -30) #range do eixo x\n",
        "plt.ylim(-50, 10) #range do eixo y\n",
        "plt.grid() #função que desenha a grade no nosso gráfico\n",
        "\n",
        "plt.scatter(kmeans.cluster_centers_[:,1],kmeans.cluster_centers_[:,0], s = 70, c = 'red') #posição de cada centroide no gráfico\n",
        "plt.show()"
      ],
      "execution_count": 0,
      "outputs": [
        {
          "output_type": "display_data",
          "data": {
            "image/png": "[encoded data removed]",
            "text/plain": [
              "<Figure size 432x288 with 1 Axes>"
            ]
          },
          "metadata": {
            "tags": [],
            "needs_background": "light"
          }
        }
      ]
    }
  ]
}